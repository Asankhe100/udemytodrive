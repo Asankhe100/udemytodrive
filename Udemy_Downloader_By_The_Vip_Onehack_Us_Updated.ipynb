{
  "nbformat": 4,
  "nbformat_minor": 0,
  "metadata": {
    "colab": {
      "name": "Udemy_Downloader_By_The_Vip_Onehack_Us_Updated.ipynb",
      "provenance": [],
      "collapsed_sections": [],
      "include_colab_link": true
    },
    "kernelspec": {
      "name": "python3",
      "display_name": "Python 3"
    }
  },
  "cells": [
    {
      "cell_type": "markdown",
      "metadata": {
        "id": "view-in-github",
        "colab_type": "text"
      },
      "source": [
        "<a href=\"https://colab.research.google.com/github/Asankhe100/udemytodrive/blob/master/Udemy_Downloader_By_The_Vip_Onehack_Us_Updated.ipynb\" target=\"_parent\"><img src=\"https://colab.research.google.com/assets/colab-badge.svg\" alt=\"Open In Colab\"/></a>"
      ]
    },
    {
      "cell_type": "code",
      "metadata": {
        "id": "R4QBua4xKN2W",
        "colab_type": "code",
        "cellView": "form",
        "colab": {
          "base_uri": "https://localhost:8080/",
          "height": 814
        },
        "outputId": "11f23485-b743-45b9-b646-b1f69b3ae39b"
      },
      "source": [
        "#@title <= FIRST RUN THIS CELL (It will clone the repo and install necessary files)\n",
        "!git clone https://github.com/r0oth3x49/udemy-dl.git && cd udemy-dl && pip install -r requirements.txt"
      ],
      "execution_count": 1,
      "outputs": [
        {
          "output_type": "stream",
          "text": [
            "Cloning into 'udemy-dl'...\n",
            "remote: Enumerating objects: 82, done.\u001b[K\n",
            "remote: Counting objects: 100% (82/82), done.\u001b[K\n",
            "remote: Compressing objects: 100% (54/54), done.\u001b[K\n",
            "remote: Total 806 (delta 47), reused 58 (delta 28), pack-reused 724\u001b[K\n",
            "Receiving objects: 100% (806/806), 286.57 KiB | 4.48 MiB/s, done.\n",
            "Resolving deltas: 100% (512/512), done.\n",
            "Requirement already satisfied: six in /usr/local/lib/python3.6/dist-packages (from -r requirements.txt (line 1)) (1.15.0)\n",
            "Collecting m3u8\n",
            "  Downloading https://files.pythonhosted.org/packages/9f/2e/1e89eed1fbd2d5dca9e50aedd8ca3b94f0572976dac8b2b3b45e2c587bb6/m3u8-0.7.1.tar.gz\n",
            "Collecting colorama\n",
            "  Downloading https://files.pythonhosted.org/packages/c9/dc/45cdef1b4d119eb96316b3117e6d5708a08029992b2fee2c143c7a0a5cc5/colorama-0.4.3-py2.py3-none-any.whl\n",
            "Requirement already satisfied: requests in /usr/local/lib/python3.6/dist-packages (from -r requirements.txt (line 4)) (2.23.0)\n",
            "Collecting unidecode\n",
            "\u001b[?25l  Downloading https://files.pythonhosted.org/packages/d0/42/d9edfed04228bacea2d824904cae367ee9efd05e6cce7ceaaedd0b0ad964/Unidecode-1.1.1-py2.py3-none-any.whl (238kB)\n",
            "\u001b[K     |████████████████████████████████| 245kB 5.3MB/s \n",
            "\u001b[?25hCollecting pyOpenSSL\n",
            "\u001b[?25l  Downloading https://files.pythonhosted.org/packages/9e/de/f8342b68fa9e981d348039954657bdf681b2ab93de27443be51865ffa310/pyOpenSSL-19.1.0-py2.py3-none-any.whl (53kB)\n",
            "\u001b[K     |████████████████████████████████| 61kB 5.9MB/s \n",
            "\u001b[?25hCollecting cloudscraper\n",
            "\u001b[?25l  Downloading https://files.pythonhosted.org/packages/93/1b/5b08eadf5e7aa1ae8bf1bdc54e23e8fab1801b8f7dbc9569ace05c943b6c/cloudscraper-1.2.46-py2.py3-none-any.whl (94kB)\n",
            "\u001b[K     |████████████████████████████████| 102kB 6.6MB/s \n",
            "\u001b[?25hCollecting iso8601\n",
            "  Downloading https://files.pythonhosted.org/packages/f5/c7/06b5938e79a09112a256f26a1ae0551b04bc6aafcb71fd7ee2390c2c54c6/iso8601-0.1.13-py2.py3-none-any.whl\n",
            "Requirement already satisfied: certifi>=2017.4.17 in /usr/local/lib/python3.6/dist-packages (from requests->-r requirements.txt (line 4)) (2020.6.20)\n",
            "Requirement already satisfied: chardet<4,>=3.0.2 in /usr/local/lib/python3.6/dist-packages (from requests->-r requirements.txt (line 4)) (3.0.4)\n",
            "Requirement already satisfied: idna<3,>=2.5 in /usr/local/lib/python3.6/dist-packages (from requests->-r requirements.txt (line 4)) (2.10)\n",
            "Requirement already satisfied: urllib3!=1.25.0,!=1.25.1,<1.26,>=1.21.1 in /usr/local/lib/python3.6/dist-packages (from requests->-r requirements.txt (line 4)) (1.24.3)\n",
            "Collecting cryptography>=2.8\n",
            "\u001b[?25l  Downloading https://files.pythonhosted.org/packages/c0/9c/647e559a6e8be493dc2a7a5d15d26cb501ca60ec299b356f23839a673a83/cryptography-3.1-cp35-abi3-manylinux2010_x86_64.whl (2.6MB)\n",
            "\u001b[K     |████████████████████████████████| 2.6MB 14.8MB/s \n",
            "\u001b[?25hCollecting requests-toolbelt>=0.9.1\n",
            "\u001b[?25l  Downloading https://files.pythonhosted.org/packages/60/ef/7681134338fc097acef8d9b2f8abe0458e4d87559c689a8c306d0957ece5/requests_toolbelt-0.9.1-py2.py3-none-any.whl (54kB)\n",
            "\u001b[K     |████████████████████████████████| 61kB 6.9MB/s \n",
            "\u001b[?25hRequirement already satisfied: pyparsing>=2.4.7 in /usr/local/lib/python3.6/dist-packages (from cloudscraper->-r requirements.txt (line 7)) (2.4.7)\n",
            "Requirement already satisfied: cffi!=1.11.3,>=1.8 in /usr/local/lib/python3.6/dist-packages (from cryptography>=2.8->pyOpenSSL->-r requirements.txt (line 6)) (1.14.2)\n",
            "Requirement already satisfied: pycparser in /usr/local/lib/python3.6/dist-packages (from cffi!=1.11.3,>=1.8->cryptography>=2.8->pyOpenSSL->-r requirements.txt (line 6)) (2.20)\n",
            "Building wheels for collected packages: m3u8\n",
            "  Building wheel for m3u8 (setup.py) ... \u001b[?25l\u001b[?25hdone\n",
            "  Created wheel for m3u8: filename=m3u8-0.7.1-cp36-none-any.whl size=21872 sha256=80fe52f0a10e0653dd75cccaf486c71bb0494a309fe9c921ab9beeaa1a7a0a93\n",
            "  Stored in directory: /root/.cache/pip/wheels/e4/dc/96/299917ff4dd3e3965e89fbf735c7bad401189a27783d66f40f\n",
            "Successfully built m3u8\n",
            "Installing collected packages: iso8601, m3u8, colorama, unidecode, cryptography, pyOpenSSL, requests-toolbelt, cloudscraper\n",
            "Successfully installed cloudscraper-1.2.46 colorama-0.4.3 cryptography-3.1 iso8601-0.1.13 m3u8-0.7.1 pyOpenSSL-19.1.0 requests-toolbelt-0.9.1 unidecode-1.1.1\n"
          ],
          "name": "stdout"
        }
      ]
    },
    {
      "cell_type": "code",
      "metadata": {
        "id": "_hpsYhc5hR0o",
        "colab_type": "code",
        "cellView": "form",
        "colab": {}
      },
      "source": [
        "#@title RUN THIS CELL TO MOUNT YOUR DRIVE (In which you want to save the course)\n",
        "from google.colab import drive\n",
        "drive.mount('/content/drive', force_remount=True)"
      ],
      "execution_count": null,
      "outputs": []
    },
    {
      "cell_type": "code",
      "metadata": {
        "id": "oTpJougMtrE1",
        "colab_type": "code",
        "cellView": "form",
        "colab": {
          "base_uri": "https://localhost:8080/",
          "height": 34
        },
        "outputId": "a258216c-5509-47f1-acb3-2f43d8c83fe2"
      },
      "source": [
        "#@title RUN THIS CELL TO CHANGE CURRENT WORKING DIRECTORY\n",
        "%cd udemy-dl/"
      ],
      "execution_count": null,
      "outputs": [
        {
          "output_type": "stream",
          "text": [
            "/content/udemy-dl\n"
          ],
          "name": "stdout"
        }
      ]
    },
    {
      "cell_type": "markdown",
      "metadata": {
        "id": "CgtuIWHUxclO",
        "colab_type": "text"
      },
      "source": [
        "# Finally, Run Below Cell After Filling All the Details"
      ]
    },
    {
      "cell_type": "code",
      "metadata": {
        "id": "i53VKEGOkiYP",
        "colab_type": "code",
        "cellView": "form",
        "colab": {}
      },
      "source": [
        "\n",
        "import os\n",
        "Course_Url = \"\" #@param {type:\"string\"}\n",
        "os.environ[\"courseurl\"] = Course_Url\n",
        "\n",
        "Download_Dir = \"\" #@param {type:\"string\"}\n",
        "os.environ[\"downloaddir\"] = Download_Dir\n",
        "\n",
        "Access_Token = \"\" #@param {type:\"string\"}\n",
        "os.environ[\"token\"] = Access_Token\n",
        "\n",
        "Subtitle_lang = \"en\" #@param {type:\"string\"}\n",
        "os.environ[\"lang\"] = Subtitle_lang\n",
        "\n",
        "Quality = \"720\" #@param {type:\"string\"}\n",
        "os.environ[\"quality\"] = Quality\n",
        "\n",
        "!echo access_token=\"$token\" >> cookie.txt\n",
        "!python udemy-dl.py \"$courseurl\" -s \"$lang\" -q \"$quality\" -k cookie.txt -o \"$downloaddir\""
      ],
      "execution_count": null,
      "outputs": []
    },
    {
      "cell_type": "markdown",
      "metadata": {
        "id": "lkKW5oI7xu3P",
        "colab_type": "text"
      },
      "source": [
        "\n",
        "\n",
        "---\n",
        "\n",
        "\n",
        "# Tutorial Link => [Click Here](https://onehack.us/t/how-to-download-any-udemy-course-directly-to-your-drive-or-team-drive/85509/5)\n",
        "\n",
        " \n",
        "\n",
        "---\n",
        "\n"
      ]
    }
  ]
}